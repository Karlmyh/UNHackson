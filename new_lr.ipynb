{
 "cells": [
  {
   "cell_type": "code",
   "execution_count": 1,
   "metadata": {},
   "outputs": [],
   "source": [
    "import math\n",
    "import numpy as np\n",
    "import pandas as pd\n",
    "import seaborn as sns\n",
    "from sklearn.svm import SVR\n",
    "import matplotlib.pyplot as plt\n",
    "from sklearn.tree import DecisionTreeRegressor\n",
    "from sklearn.model_selection import train_test_split\n",
    "from sklearn.linear_model import LinearRegression, Ridge, Lasso, ElasticNet"
   ]
  },
  {
   "cell_type": "code",
   "execution_count": 27,
   "metadata": {},
   "outputs": [
    {
     "data": {
      "text/html": [
       "<div>\n",
       "<style scoped>\n",
       "    .dataframe tbody tr th:only-of-type {\n",
       "        vertical-align: middle;\n",
       "    }\n",
       "\n",
       "    .dataframe tbody tr th {\n",
       "        vertical-align: top;\n",
       "    }\n",
       "\n",
       "    .dataframe thead th {\n",
       "        text-align: right;\n",
       "    }\n",
       "</style>\n",
       "<table border=\"1\" class=\"dataframe\">\n",
       "  <thead>\n",
       "    <tr style=\"text-align: right;\">\n",
       "      <th></th>\n",
       "      <th>full_and_partial</th>\n",
       "      <th>new_cases</th>\n",
       "      <th>electricity</th>\n",
       "      <th>mobile</th>\n",
       "      <th>internet</th>\n",
       "      <th>access to education</th>\n",
       "    </tr>\n",
       "  </thead>\n",
       "  <tbody>\n",
       "    <tr>\n",
       "      <th>0</th>\n",
       "      <td>73</td>\n",
       "      <td>7678</td>\n",
       "      <td>96.30</td>\n",
       "      <td>54.41</td>\n",
       "      <td>55.14</td>\n",
       "      <td>15.3</td>\n",
       "    </tr>\n",
       "    <tr>\n",
       "      <th>1</th>\n",
       "      <td>69</td>\n",
       "      <td>79723</td>\n",
       "      <td>100.00</td>\n",
       "      <td>74.35</td>\n",
       "      <td>82.37</td>\n",
       "      <td>4.1</td>\n",
       "    </tr>\n",
       "    <tr>\n",
       "      <th>2</th>\n",
       "      <td>70</td>\n",
       "      <td>20739</td>\n",
       "      <td>99.76</td>\n",
       "      <td>45.76</td>\n",
       "      <td>65.00</td>\n",
       "      <td>3.3</td>\n",
       "    </tr>\n",
       "    <tr>\n",
       "      <th>3</th>\n",
       "      <td>70</td>\n",
       "      <td>317</td>\n",
       "      <td>99.71</td>\n",
       "      <td>67.84</td>\n",
       "      <td>80.53</td>\n",
       "      <td>3.1</td>\n",
       "    </tr>\n",
       "    <tr>\n",
       "      <th>4</th>\n",
       "      <td>53</td>\n",
       "      <td>10256</td>\n",
       "      <td>100.00</td>\n",
       "      <td>49.23</td>\n",
       "      <td>75.80</td>\n",
       "      <td>6.1</td>\n",
       "    </tr>\n",
       "    <tr>\n",
       "      <th>5</th>\n",
       "      <td>70</td>\n",
       "      <td>13896</td>\n",
       "      <td>100.00</td>\n",
       "      <td>51.25</td>\n",
       "      <td>54.06</td>\n",
       "      <td>2.6</td>\n",
       "    </tr>\n",
       "    <tr>\n",
       "      <th>6</th>\n",
       "      <td>71</td>\n",
       "      <td>2018</td>\n",
       "      <td>100.00</td>\n",
       "      <td>30.35</td>\n",
       "      <td>50.49</td>\n",
       "      <td>1.9</td>\n",
       "    </tr>\n",
       "    <tr>\n",
       "      <th>7</th>\n",
       "      <td>70</td>\n",
       "      <td>4050</td>\n",
       "      <td>95.72</td>\n",
       "      <td>44.11</td>\n",
       "      <td>44.40</td>\n",
       "      <td>9.8</td>\n",
       "    </tr>\n",
       "    <tr>\n",
       "      <th>8</th>\n",
       "      <td>69</td>\n",
       "      <td>4148</td>\n",
       "      <td>92.78</td>\n",
       "      <td>45.34</td>\n",
       "      <td>32.14</td>\n",
       "      <td>7.8</td>\n",
       "    </tr>\n",
       "    <tr>\n",
       "      <th>9</th>\n",
       "      <td>19</td>\n",
       "      <td>91281</td>\n",
       "      <td>100.00</td>\n",
       "      <td>36.93</td>\n",
       "      <td>71.97</td>\n",
       "      <td>2.1</td>\n",
       "    </tr>\n",
       "    <tr>\n",
       "      <th>10</th>\n",
       "      <td>72</td>\n",
       "      <td>725</td>\n",
       "      <td>100.00</td>\n",
       "      <td>48.65</td>\n",
       "      <td>74.52</td>\n",
       "      <td>2.2</td>\n",
       "    </tr>\n",
       "    <tr>\n",
       "      <th>11</th>\n",
       "      <td>63</td>\n",
       "      <td>117095</td>\n",
       "      <td>98.34</td>\n",
       "      <td>42.60</td>\n",
       "      <td>65.25</td>\n",
       "      <td>2.8</td>\n",
       "    </tr>\n",
       "  </tbody>\n",
       "</table>\n",
       "</div>"
      ],
      "text/plain": [
       "    full_and_partial  new_cases  electricity  mobile  internet  \\\n",
       "0                 73       7678        96.30   54.41     55.14   \n",
       "1                 69      79723       100.00   74.35     82.37   \n",
       "2                 70      20739        99.76   45.76     65.00   \n",
       "3                 70        317        99.71   67.84     80.53   \n",
       "4                 53      10256       100.00   49.23     75.80   \n",
       "5                 70      13896       100.00   51.25     54.06   \n",
       "6                 71       2018       100.00   30.35     50.49   \n",
       "7                 70       4050        95.72   44.11     44.40   \n",
       "8                 69       4148        92.78   45.34     32.14   \n",
       "9                 19      91281       100.00   36.93     71.97   \n",
       "10                72        725       100.00   48.65     74.52   \n",
       "11                63     117095        98.34   42.60     65.25   \n",
       "\n",
       "    access to education  \n",
       "0                  15.3  \n",
       "1                   4.1  \n",
       "2                   3.3  \n",
       "3                   3.1  \n",
       "4                   6.1  \n",
       "5                   2.6  \n",
       "6                   1.9  \n",
       "7                   9.8  \n",
       "8                   7.8  \n",
       "9                   2.1  \n",
       "10                  2.2  \n",
       "11                  2.8  "
      ]
     },
     "execution_count": 27,
     "metadata": {},
     "output_type": "execute_result"
    }
   ],
   "source": [
    "d = pd.read_csv(\"new.csv\")\n",
    "d"
   ]
  },
  {
   "cell_type": "code",
   "execution_count": 28,
   "metadata": {},
   "outputs": [
    {
     "data": {
      "image/png": "[encoded data removed]",
      "text/plain": [
       "<Figure size 864x576 with 2 Axes>"
      ]
     },
     "metadata": {
      "needs_background": "light"
     },
     "output_type": "display_data"
    }
   ],
   "source": [
    "plt.figure(figsize=(12,8))\n",
    "sns.heatmap(d.corr(), annot=True, fmt='.2f', cmap='PuBu')\n",
    "plt.savefig('output.png', dpi=500, bbox_inches='tight')"
   ]
  },
  {
   "cell_type": "code",
   "execution_count": 29,
   "metadata": {},
   "outputs": [],
   "source": [
    "def normalize():\n",
    "    for column in d.columns:\n",
    "        mean, std = np.mean(d[column]), np.std(d[column])\n",
    "        d[f\"n_{column}\"] = d[column].apply(lambda x : (x - mean) / std)\n",
    "    print(\"Done\")"
   ]
  },
  {
   "cell_type": "code",
   "execution_count": 30,
   "metadata": {},
   "outputs": [],
   "source": [
    "def regression(model):\n",
    "    model.fit(X_train, y_train)\n",
    "    coef = model.coef_\n",
    "    pred = model.predict(X_test)\n",
    "    error = math.sqrt((pred - y_test) ** 2)\n",
    "    return coef, pred, error"
   ]
  },
  {
   "cell_type": "code",
   "execution_count": 42,
   "metadata": {},
   "outputs": [],
   "source": [
    "def regression_(model):\n",
    "    model.fit(X_train, y_train)\n",
    "    pred = model.predict(X_test)\n",
    "    error = math.sqrt((pred - y_test) ** 2)\n",
    "    return pred, error"
   ]
  },
  {
   "cell_type": "code",
   "execution_count": 31,
   "metadata": {},
   "outputs": [
    {
     "name": "stdout",
     "output_type": "stream",
     "text": [
      "Done\n"
     ]
    }
   ],
   "source": [
    "normalize()"
   ]
  },
  {
   "cell_type": "code",
   "execution_count": 33,
   "metadata": {},
   "outputs": [],
   "source": [
    "normalized_d = d[d.columns[6:]]"
   ]
  },
  {
   "cell_type": "code",
   "execution_count": 36,
   "metadata": {},
   "outputs": [],
   "source": [
    "x_columns = list(normalized_d.columns[:5])\n",
    "X, y = normalized_d[x_columns], d[\"n_access to education\"]\n",
    "X_train, X_test, y_train, y_test = train_test_split(X, y, test_size=0.05, random_state=2022)"
   ]
  },
  {
   "cell_type": "code",
   "execution_count": 37,
   "metadata": {},
   "outputs": [
    {
     "name": "stdout",
     "output_type": "stream",
     "text": [
      "[0.72016368] -0.5116248382075629\n",
      "[-0.09345208 -0.37733988 -0.88874562  0.24407038  0.36807736]\n"
     ]
    }
   ],
   "source": [
    "model1 = LinearRegression()\n",
    "coef1, pred1, error1 = regression(model1)\n",
    "print(pred1, float(y_test))\n",
    "print(coef1)"
   ]
  },
  {
   "cell_type": "code",
   "execution_count": 38,
   "metadata": {},
   "outputs": [
    {
     "name": "stdout",
     "output_type": "stream",
     "text": [
      "[0.04651135] -0.5116248382075629\n",
      "[ 0. -0. -0.  0. -0.]\n"
     ]
    }
   ],
   "source": [
    "model2 = Lasso()\n",
    "coef2, pred2, error2 = regression(model2)\n",
    "print(pred2, float(y_test))\n",
    "print(coef2)"
   ]
  },
  {
   "cell_type": "code",
   "execution_count": 39,
   "metadata": {},
   "outputs": [
    {
     "name": "stdout",
     "output_type": "stream",
     "text": [
      "[0.54018367] -0.5116248382075629\n",
      "[-0.08272571 -0.2940767  -0.66287374  0.29690003  0.11110248]\n"
     ]
    }
   ],
   "source": [
    "model3 = Ridge()\n",
    "coef3, pred3, error3 = regression(model3)\n",
    "print(pred3, float(y_test))\n",
    "print(coef3)"
   ]
  },
  {
   "cell_type": "code",
   "execution_count": 40,
   "metadata": {},
   "outputs": [
    {
     "name": "stdout",
     "output_type": "stream",
     "text": [
      "[0.362387] -0.5116248382075629\n",
      "[[-0.05664894 -0.27931706 -0.56183942  0.12697105  0.31164914]]\n"
     ]
    }
   ],
   "source": [
    "model5 = SVR(kernel=\"linear\")\n",
    "coef5, pred5, error5 = regression(model5)\n",
    "print(pred5, float(y_test))\n",
    "print(coef5)"
   ]
  },
  {
   "cell_type": "code",
   "execution_count": 43,
   "metadata": {},
   "outputs": [
    {
     "name": "stdout",
     "output_type": "stream",
     "text": [
      "[-0.50199173] -0.5116248382075629\n"
     ]
    }
   ],
   "source": [
    "model7 = DecisionTreeRegressor(max_depth=1)\n",
    "pred7, error7 = regression_(model7)\n",
    "print(pred7, float(y_test))"
   ]
  },
  {
   "cell_type": "code",
   "execution_count": 46,
   "metadata": {},
   "outputs": [
    {
     "data": {
      "text/plain": [
       "full_and_partial       0.252461\n",
       "new_cases             -0.314122\n",
       "electricity           -0.685265\n",
       "mobile                 0.131755\n",
       "internet              -0.430042\n",
       "access to education    1.000000\n",
       "Name: access to education, dtype: float64"
      ]
     },
     "execution_count": 46,
     "metadata": {},
     "output_type": "execute_result"
    }
   ],
   "source": [
    "d.corr()[\"access to education\"][:6]"
   ]
  },
  {
   "cell_type": "code",
   "execution_count": null,
   "metadata": {},
   "outputs": [],
   "source": []
  }
 ],
 "metadata": {
  "interpreter": {
   "hash": "5c4590bf2d3468efc31a2644735443d7129475db15d3a9123d91cb9c3c861e16"
  },
  "kernelspec": {
   "display_name": "Python 3.8.8 64-bit",
   "name": "python3"
  },
  "language_info": {
   "codemirror_mode": {
    "name": "ipython",
    "version": 3
   },
   "file_extension": ".py",
   "mimetype": "text/x-python",
   "name": "python",
   "nbconvert_exporter": "python",
   "pygments_lexer": "ipython3",
   "version": "3.8.8"
  },
  "orig_nbformat": 4
 },
 "nbformat": 4,
 "nbformat_minor": 2
}
